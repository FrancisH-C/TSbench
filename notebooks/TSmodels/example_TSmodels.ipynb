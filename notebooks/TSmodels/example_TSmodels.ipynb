{
 "cells": [
  {
   "cell_type": "markdown",
   "id": "c8dec3af",
   "metadata": {},
   "source": [
    "# Usage examples"
   ]
  },
  {
   "cell_type": "markdown",
   "id": "3e3b6c18",
   "metadata": {
    "cell_depth": 1
   },
   "source": [
    "## Initialization"
   ]
  },
  {
   "cell_type": "code",
   "execution_count": null,
   "id": "8b9f7f93",
   "metadata": {
    "title": "[code]"
   },
   "outputs": [],
   "source": [
    "from TSbench import TSmodels\n",
    "from numpy.random import Generator, PCG64\n",
    "from TSbench.TSdata import LoaderTSdf"
   ]
  },
  {
   "cell_type": "code",
   "execution_count": null,
   "id": "e0f0bac6",
   "metadata": {
    "title": "[code]"
   },
   "outputs": [],
   "source": [
    "path = \"data/\"\n",
    "datatype = \"simulated\"\n",
    "loader = LoaderTSdf(path=path, datatype=datatype)"
   ]
  },
  {
   "cell_type": "markdown",
   "id": "f862ff65",
   "metadata": {
    "cell_depth": 1
   },
   "source": [
    "## Define models"
   ]
  },
  {
   "cell_type": "code",
   "execution_count": null,
   "id": "c41d0e4c",
   "metadata": {
    "title": "[code]"
   },
   "outputs": [],
   "source": [
    "seed = 1234\n",
    "ID = \"Constant\"\n",
    "feature_label = [\"feature\"]\n",
    "cnst_model = TSmodels.Constant(\n",
    "    rg=Generator(PCG64(1234)), dim_label=[\"first\"], feature_label=feature_label\n",
    ")\n",
    "arma_model = TSmodels.ARMA(\n",
    "    lag=1, rg=Generator(PCG64(1234)), dim_label=[\"first\"], feature_label=feature_label\n",
    ")"
   ]
  },
  {
   "cell_type": "markdown",
   "id": "a347d725",
   "metadata": {
    "cell_depth": 2
   },
   "source": [
    "### Generate data with both models"
   ]
  },
  {
   "cell_type": "code",
   "execution_count": null,
   "id": "ffea39d8",
   "metadata": {
    "title": "[code]"
   },
   "outputs": [],
   "source": [
    "N = 10\n",
    "print(\"Constant Data\")\n",
    "print(cnst_model.generate(N))\n",
    "print(\"ARMA Data\")\n",
    "print(arma_model.generate(N))"
   ]
  },
  {
   "cell_type": "markdown",
   "id": "81e05abe",
   "metadata": {
    "cell_depth": 2
   },
   "source": [
    "### Train both models"
   ]
  },
  {
   "cell_type": "markdown",
   "id": "2c160c0a",
   "metadata": {
    "cell_depth": 3
   },
   "source": [
    "#### Train ARMA on ARMA data"
   ]
  },
  {
   "cell_type": "code",
   "execution_count": null,
   "id": "e46ba9ec",
   "metadata": {
    "title": "[code]"
   },
   "outputs": [],
   "source": [
    "arma_model.set_data(data=arma_model.loader.get_df())\n",
    "arma_model.train()"
   ]
  },
  {
   "cell_type": "markdown",
   "id": "fdaae0d8",
   "metadata": {
    "cell_depth": 3
   },
   "source": [
    "#### Train Constant on ARMA data\n",
    "\n",
    "cnst_model.set_data(data=arma_model.loader.get_df())\n",
    "cnst_model.train()"
   ]
  },
  {
   "cell_type": "markdown",
   "id": "72da2cde",
   "metadata": {
    "cell_depth": 2
   },
   "source": [
    "### Forecast"
   ]
  },
  {
   "cell_type": "markdown",
   "id": "b8016b77",
   "metadata": {
    "cell_depth": 3
   },
   "source": [
    "#### Forecast with Constant"
   ]
  },
  {
   "cell_type": "code",
   "execution_count": null,
   "id": "34eacce5",
   "metadata": {
    "title": "[code]"
   },
   "outputs": [],
   "source": [
    "T = 5\n",
    "print(\"Constant forecast\")\n",
    "print(cnst_model.generate(T))"
   ]
  },
  {
   "cell_type": "markdown",
   "id": "bc4817e3",
   "metadata": {
    "cell_depth": 3
   },
   "source": [
    "#### Forecast with ARMA"
   ]
  },
  {
   "cell_type": "code",
   "execution_count": null,
   "id": "a29b3798",
   "metadata": {
    "title": "[code]"
   },
   "outputs": [],
   "source": [
    "T = 5\n",
    "print(\"ARMA forecast\")\n",
    "print(arma_model.forecast(T=T))"
   ]
  }
 ],
 "metadata": {
  "kernelspec": {
   "display_name": "TSBench",
   "language": "python",
   "name": "tsbench"
  }
 },
 "nbformat": 4,
 "nbformat_minor": 5
}