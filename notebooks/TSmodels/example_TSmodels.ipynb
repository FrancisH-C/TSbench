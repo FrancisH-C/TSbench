{
 "cells": [
  {
   "cell_type": "code",
   "execution_count": null,
   "id": "dd172b65",
   "metadata": {},
   "outputs": [],
   "source": [
    "# ---\n",
    "# jupyter:\n",
    "#   jupytext:\n",
    "#     text_representation:\n",
    "#       extension: .py\n",
    "#       format_name: percent\n",
    "#       format_version: '1.3'\n",
    "#       jupytext_version: 1.16.1\n",
    "#   kernelspec:\n",
    "#     display_name: TSBench\n",
    "#     language: python\n",
    "#     name: tsbench\n",
    "# ---"
   ]
  },
  {
   "cell_type": "markdown",
   "id": "8e3938fc",
   "metadata": {},
   "source": [
    "# Usage examples"
   ]
  },
  {
   "cell_type": "markdown",
   "id": "52260df6",
   "metadata": {
    "cell_depth": 1
   },
   "source": [
    "## Initialization"
   ]
  },
  {
   "cell_type": "code",
   "execution_count": null,
   "id": "557b48e4",
   "metadata": {
    "title": "[code]"
   },
   "outputs": [],
   "source": [
    "from TSbench import TSmodels\n",
    "from numpy.random import Generator, PCG64\n",
    "from TSbench.TSdata import LoaderTSdf"
   ]
  },
  {
   "cell_type": "code",
   "execution_count": null,
   "id": "3d85ef8d",
   "metadata": {
    "title": "[code]"
   },
   "outputs": [],
   "source": [
    "path = \"data/\"\n",
    "datatype = \"simulated\"\n",
    "loader = LoaderTSdf(path=path, datatype=datatype)"
   ]
  },
  {
   "cell_type": "markdown",
   "id": "9c316a0f",
   "metadata": {
    "cell_depth": 1
   },
   "source": [
    "## Define models"
   ]
  },
  {
   "cell_type": "code",
   "execution_count": null,
   "id": "c4a99ac0",
   "metadata": {
    "title": "[code]"
   },
   "outputs": [],
   "source": [
    "seed = 1234\n",
    "ID = \"Constant\"\n",
    "feature_label = [\"feature\"]\n",
    "cnst_model = TSmodels.Constant(\n",
    "    rg=Generator(PCG64(1234)), dim_label=[\"first\"], feature_label=feature_label\n",
    ")\n",
    "arma_model = TSmodels.ARMA(\n",
    "    lag=1, rg=Generator(PCG64(1234)), dim_label=[\"first\"], feature_label=feature_label\n",
    ")"
   ]
  },
  {
   "cell_type": "markdown",
   "id": "bc870585",
   "metadata": {
    "cell_depth": 2
   },
   "source": [
    "### Generate data with both models"
   ]
  },
  {
   "cell_type": "code",
   "execution_count": null,
   "id": "b9ba9f9a",
   "metadata": {
    "title": "[code]"
   },
   "outputs": [],
   "source": [
    "N = 10\n",
    "print(\"Constant Data\")\n",
    "print(cnst_model.generate(N))\n",
    "print(\"ARMA Data\")\n",
    "print(arma_model.generate(N))"
   ]
  },
  {
   "cell_type": "markdown",
   "id": "aa80721c",
   "metadata": {
    "cell_depth": 2
   },
   "source": [
    "### Train both models"
   ]
  },
  {
   "cell_type": "markdown",
   "id": "4514f6c6",
   "metadata": {
    "cell_depth": 3
   },
   "source": [
    "#### Train ARMA on ARMA data"
   ]
  },
  {
   "cell_type": "code",
   "execution_count": null,
   "id": "1cda7f0e",
   "metadata": {
    "title": "[code]"
   },
   "outputs": [],
   "source": [
    "arma_model.set_data(data=arma_model.loader.get_df())\n",
    "arma_model.train()"
   ]
  },
  {
   "cell_type": "markdown",
   "id": "ffb6689f",
   "metadata": {
    "cell_depth": 3
   },
   "source": [
    "#### Train Constant on ARMA data\n",
    "\n",
    "cnst_model.set_data(data=arma_model.loader.get_df())\n",
    "cnst_model.train()"
   ]
  },
  {
   "cell_type": "markdown",
   "id": "d209d307",
   "metadata": {
    "cell_depth": 2
   },
   "source": [
    "### Forecast"
   ]
  },
  {
   "cell_type": "markdown",
   "id": "d7ec87e6",
   "metadata": {
    "cell_depth": 3
   },
   "source": [
    "#### Forecast with Constant"
   ]
  },
  {
   "cell_type": "code",
   "execution_count": null,
   "id": "c5826c87",
   "metadata": {
    "title": "[code]"
   },
   "outputs": [],
   "source": [
    "T = 5\n",
    "print(\"Constant forecast\")\n",
    "print(cnst_model.generate(T))"
   ]
  },
  {
   "cell_type": "markdown",
   "id": "ea6ea05b",
   "metadata": {
    "cell_depth": 3
   },
   "source": [
    "#### Forecast with ARMA"
   ]
  },
  {
   "cell_type": "code",
   "execution_count": null,
   "id": "a3e6da1e",
   "metadata": {
    "title": "[code]"
   },
   "outputs": [],
   "source": [
    "T = 5\n",
    "print(\"ARMA forecast\")\n",
    "print(arma_model.forecast(T=T))"
   ]
  }
 ],
 "metadata": {
  "jupytext": {
   "cell_metadata_filter": "title,cell_depth,-all",
   "main_language": "python",
   "notebook_metadata_filter": "-all"
  }
 },
 "nbformat": 4,
 "nbformat_minor": 5
}