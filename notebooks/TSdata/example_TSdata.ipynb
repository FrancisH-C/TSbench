{
 "cells": [
  {
   "cell_type": "markdown",
   "id": "bc24bf80",
   "metadata": {},
   "source": [
    "# Example TSdata\n",
    "This is an example of how to use TSdata."
   ]
  },
  {
   "cell_type": "markdown",
   "id": "fcf9b496",
   "metadata": {
    "cell_depth": 1
   },
   "source": [
    "## Initialization"
   ]
  },
  {
   "cell_type": "code",
   "execution_count": null,
   "id": "383df1cf",
   "metadata": {
    "cell_depth": 2,
    "title": "[code]"
   },
   "outputs": [],
   "source": [
    "import numpy as np\n",
    "import pandas as pd\n",
    "from TSbench.TSdata import LoaderTSdf, DatasetOperations"
   ]
  },
  {
   "cell_type": "code",
   "execution_count": null,
   "id": "2065fd95",
   "metadata": {
    "cell_depth": 2,
    "title": "[code]"
   },
   "outputs": [],
   "source": [
    "path = \"data/example_operations/data\"\n",
    "datatype = \"simulated\"\n",
    "split = [\"0\", \"1\"]\n",
    "permission = \"overwrite\"  # Overwrite is used for repeated execution\n",
    "loader = LoaderTSdf(path=path, datatype=datatype, permission=permission)\n",
    "loader.restart_dataset()  # fresh re-run"
   ]
  },
  {
   "cell_type": "markdown",
   "id": "d0dd67fa",
   "metadata": {
    "cell_depth": 1
   },
   "source": [
    "## Data operations"
   ]
  },
  {
   "cell_type": "markdown",
   "id": "55ea1b5d",
   "metadata": {
    "cell_depth": 2
   },
   "source": [
    "### Add datatype"
   ]
  },
  {
   "cell_type": "code",
   "execution_count": null,
   "id": "2918acc6",
   "metadata": {
    "cell_depth": 3,
    "title": "[code]"
   },
   "outputs": [],
   "source": [
    "d = {\n",
    "    \"ID\": np.hstack(([\"name1\" for _ in range(5)], [\"name2\" for _ in range(5)])),\n",
    "    \"timestamp\": np.arange(10),\n",
    "    \"feature1\": np.arange(10, 20),\n",
    "    \"feature2\": np.arange(10, 20),\n",
    "}\n",
    "df = pd.DataFrame(data=d)\n",
    "loader.add_data(data=df)\n",
    "print(loader.df)"
   ]
  },
  {
   "cell_type": "markdown",
   "id": "f2aa04ac",
   "metadata": {
    "cell_depth": 2
   },
   "source": [
    "### Add ID"
   ]
  },
  {
   "cell_type": "code",
   "execution_count": null,
   "id": "f0ce19bb",
   "metadata": {
    "cell_depth": 3,
    "title": "[code]"
   },
   "outputs": [],
   "source": [
    "ID = \"added_ID\"\n",
    "d = {\n",
    "    \"timestamp\": np.arange(0, 5),\n",
    "    \"feature1\": np.arange(5),\n",
    "    \"feature2\": np.arange(10, 15),\n",
    "}\n",
    "df = pd.DataFrame(data=d)\n",
    "loader.add_data(df, ID=ID, collision=\"overwrite\")\n",
    "print(loader.df)  # in memory"
   ]
  },
  {
   "cell_type": "markdown",
   "id": "0e2d2615",
   "metadata": {
    "cell_depth": 2
   },
   "source": [
    "### Add feature"
   ]
  },
  {
   "cell_type": "code",
   "execution_count": null,
   "id": "a998151d",
   "metadata": {
    "cell_depth": 3,
    "title": "[code]"
   },
   "outputs": [],
   "source": [
    "feature = \"added_feature\"\n",
    "d = {\"timestamp\": np.arange(10), feature: np.arange(10)}\n",
    "df = pd.DataFrame(data=d)\n",
    "loader.add_feature(df, ID=\"added_ID\", feature=feature)\n",
    "print(loader.df)  # in memory"
   ]
  },
  {
   "cell_type": "markdown",
   "id": "0d42e585",
   "metadata": {
    "cell_depth": 2
   },
   "source": [
    "### Saving changes"
   ]
  },
  {
   "cell_type": "code",
   "execution_count": null,
   "id": "c2b930c7",
   "metadata": {
    "cell_depth": 3,
    "title": "[code]"
   },
   "outputs": [],
   "source": [
    "loader.write()"
   ]
  },
  {
   "cell_type": "markdown",
   "id": "75970eaf",
   "metadata": {
    "cell_depth": 2
   },
   "source": [
    "### Remove data"
   ]
  },
  {
   "cell_type": "code",
   "execution_count": null,
   "id": "5fe2d01d",
   "metadata": {
    "cell_depth": 3,
    "title": "[code]"
   },
   "outputs": [],
   "source": [
    "empty_loader = LoaderTSdf(path=path, datatype=datatype, permission=permission)\n",
    "print(empty_loader.df)"
   ]
  },
  {
   "cell_type": "code",
   "execution_count": null,
   "id": "c7ea3ae7",
   "metadata": {
    "cell_depth": 3,
    "title": "[code]"
   },
   "outputs": [],
   "source": [
    "empty_loader.rm_datatype()\n",
    "assert isinstance(empty_loader.df, pd.DataFrame) and empty_loader.df.size == 0"
   ]
  },
  {
   "cell_type": "markdown",
   "id": "731c3c2b",
   "metadata": {
    "cell_depth": 1
   },
   "source": [
    "## Metadata operations"
   ]
  },
  {
   "cell_type": "code",
   "execution_count": null,
   "id": "faf876c1",
   "metadata": {
    "cell_depth": 2,
    "title": "[code]"
   },
   "outputs": [],
   "source": [
    "print(loader.metadata)"
   ]
  },
  {
   "cell_type": "markdown",
   "id": "f782ddac",
   "metadata": {
    "cell_depth": 2
   },
   "source": [
    "### Add metadata"
   ]
  },
  {
   "cell_type": "code",
   "execution_count": null,
   "id": "95250247",
   "metadata": {
    "cell_depth": 3,
    "title": "[code]"
   },
   "outputs": [],
   "source": [
    "loader.set_metadata(start=[\"2016-01-01\"])\n",
    "# loader.add_metadata(start=\"2016-01-01\")\n",
    "# loader.add_metadata(test=[\"0\", \"0\"], test2=[\"1\", \"1\"])"
   ]
  },
  {
   "cell_type": "markdown",
   "id": "9c9b25de",
   "metadata": {
    "cell_depth": 2
   },
   "source": [
    "Don't forget to write the changes on the disk"
   ]
  },
  {
   "cell_type": "code",
   "execution_count": null,
   "id": "387810f5",
   "metadata": {
    "cell_depth": 3,
    "title": "[code]"
   },
   "outputs": [],
   "source": [
    "loader.write()"
   ]
  },
  {
   "cell_type": "markdown",
   "id": "1e950709",
   "metadata": {
    "cell_depth": 1
   },
   "source": [
    "## Dataset operations\n",
    "*Execution order here is important.*"
   ]
  },
  {
   "cell_type": "markdown",
   "id": "f2625a95",
   "metadata": {
    "cell_depth": 2
   },
   "source": [
    "### Define loaders"
   ]
  },
  {
   "cell_type": "code",
   "execution_count": null,
   "id": "4486869b",
   "metadata": {
    "cell_depth": 3,
    "title": "[code]"
   },
   "outputs": [],
   "source": [
    "data_path = \"data/example_operations/data\"\n",
    "multiprocess_path = \"data/example_multiprocessing\"\n",
    "copy_path = \"data/example_operations/copy\"\n",
    "move_path = \"data/example_operations/move\"\n",
    "merge_path = \"data/example_operations/example_merge\"\n",
    "permission = \"overwrite\"\n",
    "data_loader = LoaderTSdf(path=data_path, datatype=datatype, permission=permission)\n",
    "multiprocess_loader = LoaderTSdf(\n",
    "    path=multiprocess_path, datatype=\"splitted_data\", permission=permission\n",
    ")\n",
    "print(\"Use case metadata\")\n",
    "print(\"-----------------\")\n",
    "print(data_loader.metadata)\n",
    "print()\n",
    "print(\"Multiprocessing metadata\")\n",
    "print(\"---------------------\")\n",
    "print(multiprocess_loader.metadata)"
   ]
  },
  {
   "cell_type": "markdown",
   "id": "acacc1fc",
   "metadata": {
    "cell_depth": 2
   },
   "source": [
    "### Remove data from previous executions"
   ]
  },
  {
   "cell_type": "code",
   "execution_count": null,
   "id": "13a86a11",
   "metadata": {
    "cell_depth": 3,
    "title": "[code]"
   },
   "outputs": [],
   "source": [
    "data_loader.set_path(copy_path)\n",
    "data_loader.rm_dataset()\n",
    "data_loader.set_path(move_path)\n",
    "data_loader.rm_dataset()\n",
    "data_loader.set_path(data_path)"
   ]
  },
  {
   "cell_type": "markdown",
   "id": "4de4b128",
   "metadata": {
    "cell_depth": 2
   },
   "source": [
    "### Copy the data to `copy_path`"
   ]
  },
  {
   "cell_type": "code",
   "execution_count": null,
   "id": "249a710d",
   "metadata": {
    "cell_depth": 3,
    "title": "[code]"
   },
   "outputs": [],
   "source": [
    "data_loader.copy_dataset(copy_path)"
   ]
  },
  {
   "cell_type": "markdown",
   "id": "f7b3c01d",
   "metadata": {
    "cell_depth": 2
   },
   "source": [
    "### Move data to `move_path`"
   ]
  },
  {
   "cell_type": "code",
   "execution_count": null,
   "id": "f8883187",
   "metadata": {
    "cell_depth": 3,
    "title": "[code]"
   },
   "outputs": [],
   "source": [
    "data_loader.move_dataset(move_path)"
   ]
  },
  {
   "cell_type": "markdown",
   "id": "8d2c0c5f",
   "metadata": {
    "cell_depth": 2
   },
   "source": [
    "### Merging dataset"
   ]
  },
  {
   "cell_type": "code",
   "execution_count": null,
   "id": "22435641",
   "metadata": {
    "cell_depth": 3,
    "title": "[code]"
   },
   "outputs": [],
   "source": [
    "merge_loader = DatasetOperations.merge_dataset(\n",
    "    [data_loader, multiprocess_loader], merge_path\n",
    ")\n",
    "print(\"Dataset are merged, here is the metadata\")\n",
    "print(merge_loader.metadata)"
   ]
  },
  {
   "cell_type": "markdown",
   "id": "8e346c47",
   "metadata": {
    "cell_depth": 1
   },
   "source": [
    "## Visualize DataFrame"
   ]
  },
  {
   "cell_type": "code",
   "execution_count": null,
   "id": "7fb9f2e4",
   "metadata": {
    "cell_depth": 2,
    "title": "[code]"
   },
   "outputs": [],
   "source": [
    "IDs = [\"name1\", \"added_ID\"]\n",
    "timestamps = [\"0\", \"1\"]\n",
    "dims = [\"0\"]\n",
    "\n",
    "print(loader.get_df())\n",
    "# print(loader.get_df(IDs=IDs, drop=True))\n",
    "# print(loader.get_df(timestamps=timestamps, drop=True))\n",
    "# print(loader.get_df(dims=dims, drop=True))\n",
    "# print(loader.get_df(IDs=IDs, timestamps=timestamps, drop=True))\n",
    "print(loader.get_df(timestamps=pd.Index(timestamps), dims=dims))"
   ]
  }
 ],
 "metadata": {
  "kernelspec": {
   "display_name": "TSbench",
   "language": "python",
   "name": "tsbench"
  }
 },
 "nbformat": 4,
 "nbformat_minor": 5
}