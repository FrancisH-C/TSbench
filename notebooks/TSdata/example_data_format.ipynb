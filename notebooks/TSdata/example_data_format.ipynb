{
  "cells": [
    {
      "cell_type": "markdown",
      "metadata": {},
      "source": [
        "## Data format\n\n"
      ]
    },
    {
      "cell_type": "markdown",
      "metadata": {},
      "source": [
        "Format different data to TSload DataFrame (TSdf).\n\n"
      ]
    },
    {
      "cell_type": "markdown",
      "metadata": {},
      "source": [
        "### Initialization\n\n"
      ]
    },
    {
      "cell_type": "code",
      "execution_count": 1,
      "metadata": {},
      "outputs": [],
      "source": [
        "%load_ext autoreload\n%autoreload 2\nimport numpy as np\nimport pandas as pd\nfrom TSbench.TSdata import LoaderTSdf, DataFormat"
      ]
    },
    {
      "cell_type": "markdown",
      "metadata": {},
      "source": [
        "Initialize a loader\n\n"
      ]
    },
    {
      "cell_type": "code",
      "execution_count": 1,
      "metadata": {},
      "outputs": [],
      "source": [
        "path = \"data/example_data_format/data\"\ndatatype = \"DataToFormat\"\npermission = \"overwrite\"  # Overwrite is used for repeated execution\nloader = LoaderTSdf(path=path, datatype=datatype, permission=permission)\nloader.restart_dataset() # for fresh re-run"
      ]
    },
    {
      "cell_type": "markdown",
      "metadata": {},
      "source": [
        "### Format with default value\n\n"
      ]
    },
    {
      "cell_type": "markdown",
      "metadata": {},
      "source": [
        "#### From DataFrame\n\n"
      ]
    },
    {
      "cell_type": "code",
      "execution_count": 1,
      "metadata": {},
      "outputs": [
        {
          "name": "stdout",
          "output_type": "stream",
          "text": [
            "#+begin_example\n                             feature0  feature1\nID            timestamp dim                    \nFromDataFrame 0         0           0        10\n              1         0           1        11\n              2         0           2        12\n              3         0           3        13\n              4         0           4        14\n              5         0           5        15\n              6         0           6        16\n              7         0           7        17\n              8         0           8        18\n              9         0           9        19\n#+end_example"
          ]
        }
      ],
      "source": [
        "ID = \"FromDataFrame\"\nd = {\"feature0\": np.arange(10), \"feature1\": np.arange(10,20)}\ndf = pd.DataFrame(data=d)\n\nTSdf = DataFormat.df_to_TSdf(df, ID=ID)\nloader.add_data(df, ID=ID, collision=\"overwrite\")\nprint(loader.get_df())"
      ]
    },
    {
      "cell_type": "code",
      "execution_count": 1,
      "metadata": {},
      "outputs": [
        {
          "name": "stdout",
          "output_type": "stream",
          "text": [
            "IDs              features split_pattern\ndatatype                                                         \nDataToFormat  [FromDataFrame]  [feature0, feature1]            []"
          ]
        }
      ],
      "source": [
        "loader.metadata"
      ]
    },
    {
      "cell_type": "markdown",
      "metadata": {},
      "source": [
        "#### From an array\n\n"
      ]
    },
    {
      "cell_type": "code",
      "execution_count": 1,
      "metadata": {},
      "outputs": [
        {
          "name": "stdout",
          "output_type": "stream",
          "text": [
            "#+begin_example\n                             feature0  feature1\nID            timestamp dim                    \nFromDataFrame 0         0           0        10\n              1         0           1        11\n              2         0           2        12\n              3         0           3        13\n              4         0           4        14\n              5         0           5        15\n              6         0           6        16\n              7         0           7        17\n              8         0           8        18\n              9         0           9        19\n#+end_example"
          ]
        }
      ],
      "source": [
        "arr_feature0 = np.arange(10)\nTSdf = DataFormat.np_to_TSdf(arr_feature0, ID=ID)\nloader.add_data(df, ID=ID, collision=\"overwrite\")\nprint(loader.get_df())"
      ]
    },
    {
      "cell_type": "markdown",
      "metadata": {},
      "source": [
        "#### From a dictionary of multiple features\n\n"
      ]
    },
    {
      "cell_type": "code",
      "execution_count": 1,
      "metadata": {},
      "outputs": [
        {
          "name": "stdout",
          "output_type": "stream",
          "text": [
            "#+begin_example\n                             feature0  feature1\nID            timestamp dim                    \nFromDataFrame 0         0           0        10\n              1         0           1        11\n              2         0           2        12\n              3         0           3        13\n              4         0           4        14\n              5         0           5        15\n              6         0           6        16\n              7         0           7        17\n              8         0           8        18\n              9         0           9        19\n#+end_example"
          ]
        }
      ],
      "source": [
        "arr_feature1 = np.arange(10)\ndict_features = {\"feature0\" : arr_feature0, \"feature1\" : arr_feature1}\nTSdf = DataFormat.dict_to_TSdf(dict_features, ID=ID)\nloader.add_data(df, ID=ID, collision=\"overwrite\")\nprint(loader.get_df())"
      ]
    },
    {
      "cell_type": "markdown",
      "metadata": {},
      "source": [
        "### Format with custom value\n\n"
      ]
    },
    {
      "cell_type": "markdown",
      "metadata": {},
      "source": [
        "#### Create timeseries information\n\n"
      ]
    },
    {
      "cell_type": "markdown",
      "metadata": {},
      "source": [
        "Timestamp\n\n"
      ]
    },
    {
      "cell_type": "code",
      "execution_count": 1,
      "metadata": {},
      "outputs": [
        {
          "name": "stdout",
          "output_type": "stream",
          "text": [
            "Timestamp:  ['2021-01-01 00:00:00', '2021-01-02 00:00:00', '2021-01-03 00:00:00', '2021-01-04 00:00:00', '2021-01-05 00:00:00', '2021-01-06 00:00:00', '2021-01-07 00:00:00', '2021-01-08 00:00:00', '2021-01-09 00:00:00', '2021-01-10 00:00:00']"
          ]
        }
      ],
      "source": [
        "T = 10 # number of timestamp\ntimestamp = list(pd.date_range(start='2021-01-01', periods=T).strftime('%Y-%m-%d %X'))\nprint(\"Timestamp: \", timestamp)"
      ]
    },
    {
      "cell_type": "markdown",
      "metadata": {},
      "source": [
        "Dimension\n\n"
      ]
    },
    {
      "cell_type": "code",
      "execution_count": 1,
      "metadata": {},
      "outputs": [
        {
          "name": "stdout",
          "output_type": "stream",
          "text": [
            "Dimension label:  ['FirstDimension']"
          ]
        }
      ],
      "source": [
        "# dimension\ndim_label = [\"FirstDimension\"]\nprint(\"Dimension label: \", dim_label)"
      ]
    },
    {
      "cell_type": "markdown",
      "metadata": {},
      "source": [
        "Features in different format\n\n"
      ]
    },
    {
      "cell_type": "code",
      "execution_count": 1,
      "metadata": {},
      "outputs": [],
      "source": [
        "ID = \"FromDataFrame\"\nd = {\"feature0\": np.arange(10), \"feature1\": np.arange(10,20)}\ndf = pd.DataFrame(data=d)\n\narr_feature0 = np.arange(10)\narr_feature1 = np.arange(10,20)\ndict_features = {\"feature0\" : arr_feature0, \"feature1\" : arr_feature1}"
      ]
    },
    {
      "cell_type": "markdown",
      "metadata": {},
      "source": [
        "#### Format for multiple features\n\n"
      ]
    },
    {
      "cell_type": "code",
      "execution_count": 1,
      "metadata": {},
      "outputs": [],
      "source": [
        "TSdf1 = DataFormat.df_to_TSdf(\n    df, ID=ID, timestamp=timestamp, dim_label=dim_label\n)\n\nTSdf2 = DataFormat.dict_to_TSdf(\n    dict_features, ID=ID, timestamp=timestamp, dim_label=dim_label\n)\n\n# Vizualize\nloader.add_data(ID=ID, data=TSdf1, collision=\"overwrite\")\n\n# assert they are equal removing indexed columns for order problem\nassert loader.get_df().equals(TSdf2)"
      ]
    },
    {
      "cell_type": "code",
      "execution_count": 1,
      "metadata": {},
      "outputs": [],
      "source": [
        "loader.write()"
      ]
    }
  ],
  "metadata": {
    "org": null,
    "kernelspec": {
      "display_name": "Python 3",
      "language": "python",
      "name": "python3"
    },
    "language_info": {
      "codemirror_mode": {
        "name": "ipython",
        "version": 3
      },
      "file_extension": ".py",
      "mimetype": "text/x-python",
      "name": "python",
      "nbconvert_exporter": "python",
      "pygments_lexer": "ipython3",
      "version": "3.5.2"
    }
  },
  "nbformat": 4,
  "nbformat_minor": 0
}